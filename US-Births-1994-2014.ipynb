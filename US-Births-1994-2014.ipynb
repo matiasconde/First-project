{
 "cells": [
  {
   "cell_type": "code",
   "execution_count": 10,
   "metadata": {
    "collapsed": false
   },
   "outputs": [
    {
     "data": {
      "text/plain": [
       "'year,month,date_of_month,day_of_week,births\\n1994,1,1,6,8096\\n1994,1,2,7,7772\\n1994,1,3,1,10142\\n1994,1,4,2,11248\\n1994,1,5,3,11053\\n1994,1,6,4,11406\\n1994,1,7,5,11251\\n1994,1,8,6,8653\\n1994,1,9,7,7910\\n1994,1,10,1,10498\\n1994,1,11,2,11706\\n1994,1,12,3,11567\\n1994,1,13,4,11212\\n1994,1,14,5,11570\\n1994,1,15,6,8660\\n1994,1,16,7,8123\\n1994,1,17,1,10567\\n1994,1,18,2,11541\\n1994,1,19,3,11257\\n1994,1,20,4,11682\\n1994,1,21,5,11811\\n1994,1,22,6,8833\\n1994,1,23,7,8310\\n1994,1,24,1,11125\\n1994,1,25,2,11981\\n1994,1,26,3,11514\\n1994,1,27,4,11702\\n1994,1,28,5,11666\\n1994,1,29,6,8988\\n1994,1,30,7,8096\\n1994,1,31,1,10765\\n1994,2,1,2,11755\\n1994,2,2,3,11483\\n1994,2,3,4,11523\\n1994,2,4,5,11677\\n1994,2,5,6,8991\\n1994,2,6,7,8309\\n1994,2,7,1,10984\\n1994,2,8,2,12152\\n1994,2,9,3,11515\\n1994,2,10,4,11623\\n1994,2,11,5,11517\\n1994,2,12,6,8945\\n1994,2,13,7,8171\\n1994,2,14,1,11551\\n1994,2,15,2,12164\\n1994,2,16,3,12009\\n1994,2,17,4,11674\\n1994,2,18,5,11887\\n1994,2,19,6,8946\\n1994,2,20,7,8402\\n1994,2,21,1,10617\\n1994,2,22,2,11810\\n1994,2,23,3,11776\\n1994,2,24,4,11667\\n'"
      ]
     },
     "execution_count": 10,
     "metadata": {},
     "output_type": "execute_result"
    }
   ],
   "source": [
    "f = open(\"US_births_1994-2003_CDC_NCHS.csv\")\n",
    "text = f.read()\n",
    "text[:1000]"
   ]
  },
  {
   "cell_type": "code",
   "execution_count": 11,
   "metadata": {
    "collapsed": false
   },
   "outputs": [
    {
     "data": {
      "text/plain": [
       "['year,month,date_of_month,day_of_week,births',\n",
       " '1994,1,1,6,8096',\n",
       " '1994,1,2,7,7772',\n",
       " '1994,1,3,1,10142',\n",
       " '1994,1,4,2,11248',\n",
       " '1994,1,5,3,11053',\n",
       " '1994,1,6,4,11406',\n",
       " '1994,1,7,5,11251',\n",
       " '1994,1,8,6,8653',\n",
       " '1994,1,9,7,7910']"
      ]
     },
     "execution_count": 11,
     "metadata": {},
     "output_type": "execute_result"
    }
   ],
   "source": [
    "txt = text.split(\"\\n\")\n",
    "txt[:10]"
   ]
  },
  {
   "cell_type": "code",
   "execution_count": 12,
   "metadata": {
    "collapsed": false
   },
   "outputs": [
    {
     "data": {
      "text/plain": [
       "[[1994, 1, 1, 6, 8096],\n",
       " [1994, 1, 2, 7, 7772],\n",
       " [1994, 1, 3, 1, 10142],\n",
       " [1994, 1, 4, 2, 11248],\n",
       " [1994, 1, 5, 3, 11053],\n",
       " [1994, 1, 6, 4, 11406],\n",
       " [1994, 1, 7, 5, 11251],\n",
       " [1994, 1, 8, 6, 8653],\n",
       " [1994, 1, 9, 7, 7910],\n",
       " [1994, 1, 10, 1, 10498]]"
      ]
     },
     "execution_count": 12,
     "metadata": {},
     "output_type": "execute_result"
    }
   ],
   "source": [
    "def read_csv(path,header = False):\n",
    "    f = open(path)\n",
    "    list_of_strings = f.read()\n",
    "    list_of_strings_2 = list_of_strings.split(\"\\n\")\n",
    "    list_of_list_int = []\n",
    "    k = 0\n",
    "    \n",
    "    if header == True:\n",
    "        k = 1\n",
    "    \n",
    "    for each in list_of_strings_2[k:]:\n",
    "        row = each.split(\",\")\n",
    "        row_int = []\n",
    "        for value in row:\n",
    "            row_int.append(int(value))\n",
    "        list_of_list_int.append(row_int)\n",
    "    \n",
    "    return list_of_list_int \n",
    "\n",
    "cdc_list = read_csv(\"US_births_1994-2003_CDC_NCHS.csv\",True)\n",
    "cdc_list[0:10]"
   ]
  },
  {
   "cell_type": "markdown",
   "metadata": {},
   "source": [
    "## Births of USA\n",
    "\n",
    "<table align=\"left\"><tr><td><b>Header<td><b>Definition\n",
    "       <tr><td>year<td>Year\n",
    "       <tr><td>month<td>Month\n",
    "       <tr><td>date_of_month<td>Day of week, where 1 is Monday and 7 is Sunday\n",
    "       <tr><td>births<td>Number of births\n"
   ]
  },
  {
   "cell_type": "code",
   "execution_count": 13,
   "metadata": {
    "collapsed": false
   },
   "outputs": [
    {
     "data": {
      "text/plain": [
       "{1: 3232517,\n",
       " 2: 3018140,\n",
       " 3: 3322069,\n",
       " 4: 3185314,\n",
       " 5: 3350907,\n",
       " 6: 3296530,\n",
       " 7: 3498783,\n",
       " 8: 3525858,\n",
       " 9: 3439698,\n",
       " 10: 3378814,\n",
       " 11: 3171647,\n",
       " 12: 3301860}"
      ]
     },
     "execution_count": 13,
     "metadata": {},
     "output_type": "execute_result"
    }
   ],
   "source": [
    "def month_births(nested_list):\n",
    "    months = [1,2,3,4,5,6,7,8,9,10,11,12]\n",
    "    births_per_months = {}\n",
    "    \n",
    "    for month in months:\n",
    "        cont = 0\n",
    "        \n",
    "        for each in nested_list:\n",
    "            if each[1] == month:\n",
    "                cont += each[4]\n",
    "        \n",
    "        births_per_months[month] = cont\n",
    "    return births_per_months\n",
    "\n",
    "cdc_month_births = month_births(cdc_list)\n",
    "cdc_month_births\n",
    "                \n",
    "    "
   ]
  },
  {
   "cell_type": "code",
   "execution_count": 16,
   "metadata": {
    "collapsed": false
   },
   "outputs": [
    {
     "data": {
      "text/plain": [
       "{1: 5789166,\n",
       " 2: 6446196,\n",
       " 3: 6322855,\n",
       " 4: 6288429,\n",
       " 5: 6233657,\n",
       " 6: 4562111,\n",
       " 7: 4079723}"
      ]
     },
     "execution_count": 16,
     "metadata": {},
     "output_type": "execute_result"
    }
   ],
   "source": [
    "def dow_births(nested_list):\n",
    "    day_of_week = [1,2,3,4,5,6,7]\n",
    "    births_per_day = {}\n",
    "    \n",
    "    for day in day_of_week:\n",
    "        cont = 0\n",
    "        \n",
    "        for each in nested_list:\n",
    "            if each[3] == day:\n",
    "                cont += each[4]\n",
    "        \n",
    "        births_per_day[day] = cont\n",
    "    return births_per_day\n",
    "\n",
    "cdc_day_births = dow_births(cdc_list)\n",
    "cdc_day_births\n",
    "    "
   ]
  },
  {
   "cell_type": "code",
   "execution_count": 17,
   "metadata": {
    "collapsed": false
   },
   "outputs": [
    {
     "name": "stdout",
     "output_type": "stream",
     "text": [
      "{1994: 3952767, 1995: 3899589, 1996: 3891494, 1997: 3880894, 1998: 3941553, 1999: 3959417, 2000: 4058814, 2001: 4025933, 2002: 4021726, 2003: 4089950}\n",
      "{1: 3232517, 2: 3018140, 3: 3322069, 4: 3185314, 5: 3350907, 6: 3296530, 7: 3498783, 8: 3525858, 9: 3439698, 10: 3378814, 11: 3171647, 12: 3301860}\n",
      "{1: 1276557, 2: 1288739, 3: 1304499, 4: 1288154, 5: 1299953, 6: 1304474, 7: 1310459, 8: 1312297, 9: 1303292, 10: 1320764, 11: 1314361, 12: 1318437, 13: 1277684, 14: 1320153, 15: 1319171, 16: 1315192, 17: 1324953, 18: 1326855, 19: 1318727, 20: 1324821, 21: 1322897, 22: 1317381, 23: 1293290, 24: 1288083, 25: 1272116, 26: 1284796, 27: 1294395, 28: 1307685, 29: 1223161, 30: 1202095, 31: 746696}\n",
      "{1: 5789166, 2: 6446196, 3: 6322855, 4: 6288429, 5: 6233657, 6: 4562111, 7: 4079723}\n"
     ]
    }
   ],
   "source": [
    "def calc_counts(data,column):\n",
    "      \n",
    "    day_of_week = list(range(1,8))\n",
    "    day_of_month = list(range(1,32))\n",
    "    months = list(range(1,13))\n",
    "    year = list(range(1994,2004))\n",
    "    \n",
    "    dic = {}\n",
    "    rango = []\n",
    "    \n",
    "    if column == 0:\n",
    "        rango = year\n",
    "    elif column == 1:\n",
    "        rango = months\n",
    "    elif column == 2:\n",
    "        rango = day_of_month\n",
    "    elif column == 3:\n",
    "        rango = day_of_week\n",
    "          \n",
    "    for v in rango:\n",
    "        cont = 0\n",
    "        \n",
    "        for each in data:\n",
    "            if each[column] == v:\n",
    "                cont += each[4]\n",
    "        \n",
    "        dic[v] = cont\n",
    "    return dic\n",
    "\n",
    "cdc_year_births = calc_counts(cdc_list,0)\n",
    "cdc_month_births = calc_counts(cdc_list,1)\n",
    "cdc_dom_births = calc_counts(cdc_list,2)\n",
    "cdc_dow_births = calc_counts(cdc_list,3)\n",
    "\n",
    "print(cdc_year_births)\n",
    "print(cdc_month_births)\n",
    "print(cdc_dom_births)\n",
    "print(cdc_dow_births)"
   ]
  },
  {
   "cell_type": "code",
   "execution_count": 18,
   "metadata": {
    "collapsed": false
   },
   "outputs": [
    {
     "name": "stdout",
     "output_type": "stream",
     "text": [
      "(4089950, 3880894)\n",
      "(3525858, 3018140)\n",
      "(1326855, 746696)\n",
      "(6446196, 4079723)\n"
     ]
    }
   ],
   "source": [
    "def min_max_dic(dic):\n",
    "    keys = list(dic.keys())\n",
    "    values = list(dic.values())\n",
    "    \n",
    "    min,max = values[0],values[0]\n",
    "    \n",
    "    for k in keys:\n",
    "        if dic[k] >= max:\n",
    "            max = dic[k]\n",
    "        elif dic[k] <= min:\n",
    "            min = dic[k]\n",
    "        else:\n",
    "            continue\n",
    "    \n",
    "    return max,min\n",
    "\n",
    "print(min_max_dic(calc_counts(cdc_list,0)))\n",
    "print(min_max_dic(calc_counts(cdc_list,1)))\n",
    "print(min_max_dic(calc_counts(cdc_list,2)))\n",
    "print(min_max_dic(calc_counts(cdc_list,3)))\n",
    "    \n",
    "    \n",
    "    "
   ]
  },
  {
   "cell_type": "code",
   "execution_count": 23,
   "metadata": {
    "collapsed": false
   },
   "outputs": [
    {
     "name": "stdout",
     "output_type": "stream",
     "text": [
      "[[1994, 5, 1, 7, 8145], [1994, 5, 2, 1, 3024], [1994, 5, 3, 2, 854], [1994, 5, 4, 3, -269], [1994, 5, 5, 4, 204], [1994, 5, 6, 5, -54], [1994, 5, 7, 6, -3263], [1994, 5, 8, 7, -438], [1994, 5, 9, 1, 2711], [1994, 5, 10, 2, 857], [1994, 5, 11, 3, -493], [1994, 5, 12, 4, 544], [1994, 5, 13, 5, -737], [1994, 5, 14, 6, -2255], [1994, 5, 15, 7, -577], [1994, 5, 16, 1, 2850], [1994, 5, 17, 2, 1186], [1994, 5, 18, 3, -621], [1994, 5, 19, 4, -257], [1994, 5, 20, 5, 234]]\n"
     ]
    }
   ],
   "source": [
    "def same_value(data,column,value):\n",
    "    \n",
    "    same_value_list = []\n",
    "    \n",
    "    \n",
    "    for row in data:\n",
    "        if row[column] == value:\n",
    "            same_value_list.append(row)\n",
    "    \n",
    "    deltas = [same_value_list[0]]\n",
    "    \n",
    "    for i,row in enumerate(same_value_list[1:]):\n",
    "        j = i+1\n",
    "        deltas.append(row[0:4]+[same_value_list[j][4]-same_value_list[j-1][4]])\n",
    "        \n",
    "    return deltas\n",
    "\n",
    "variations = same_value(cdc_list,1,5)\n",
    "\n",
    "print(variations[:20])"
   ]
  },
  {
   "cell_type": "code",
   "execution_count": 24,
   "metadata": {
    "collapsed": false
   },
   "outputs": [
    {
     "name": "stdout",
     "output_type": "stream",
     "text": [
      "1461\n",
      "1461\n",
      "1461\n",
      "1461\n",
      "7671 1461 3652 5479\n"
     ]
    }
   ],
   "source": [
    "CDC = read_csv(\"US_births_1994-2003_CDC_NCHS.csv\",True)\n",
    "SSA = read_csv(\"US_births_2000-2014_SSA.csv\",True)\n",
    "\n",
    "def Intervalo_de_interés(data,column,a,b):\n",
    "    \n",
    "    #toma una lista csv de datos ordenados\n",
    "    #devuelve el número de fila donde comienza y donde terminan (inclusive) los datos acotados\n",
    "    \n",
    "    mark1 = 0\n",
    "    mark2 = 0\n",
    "    \n",
    "    for i,row in enumerate(data):\n",
    "        if row[column] == a:\n",
    "            mark1 = i\n",
    "            break\n",
    "      \n",
    "    for i,row in enumerate(data[mark1:]):\n",
    "        if row[column] == b:\n",
    "            mark2 = i+mark1\n",
    "            break     \n",
    "        mark2 += 1\n",
    "    mark2 += mark1-1\n",
    "    \n",
    "    return [mark1,mark2]\n",
    "\n",
    "def prom_overlap(data1,data2,column,year1,year2):\n",
    "    #se supone que data1 tiene su período solapado al final\n",
    "    #se supone que data2 tiene su período solapado al principio\n",
    "    \n",
    "    mark11 = Intervalo_de_interés(data1,column,year1,year2)[0]\n",
    "    mark12 = Intervalo_de_interés(data1,column,year1,year2)[1] \n",
    "    mark21 = Intervalo_de_interés(data2,column,year1,year2)[0]\n",
    "    mark22 = Intervalo_de_interés(data2,column,year1,year2)[1] \n",
    "        \n",
    "    Intervalo1 = data1[0:mark11]\n",
    "    Intervalo2 = data2[mark22:]\n",
    "    Intervalo_solapado = []\n",
    "    rango_solapado = mark12+1-mark11 \n",
    "    \n",
    "    print(rango_solapado)\n",
    "    \n",
    "    for i in range(rango_solapado):\n",
    "        prom = (data1[i][4]+data2[i][4])/2\n",
    "        z = data1[i+mark11][0:4]+[prom]\n",
    "        Intervalo_solapado.append(z)\n",
    "    \n",
    "    return Intervalo1+Intervalo_solapado+Intervalo2\n",
    "    \n",
    "def dif_overlap(data1,data2,column,year1,year2):\n",
    "    #se supone que data1 tiene su período solapado al final\n",
    "    #se supone que data2 tiene su período solapado al principio\n",
    "    \n",
    "    mark11 = Intervalo_de_interés(data1,column,year1,year2)[0]\n",
    "    mark12 = Intervalo_de_interés(data1,column,year1,year2)[1] \n",
    "    mark21 = Intervalo_de_interés(data2,column,year1,year2)[0]\n",
    "    mark22 = Intervalo_de_interés(data2,column,year1,year2)[1] \n",
    "        \n",
    "    Intervalo1 = data1[0:mark11]\n",
    "    Intervalo2 = data2[mark22:]\n",
    "    Intervalo_solapado = []\n",
    "    rango_solapado = mark12+1-mark11 \n",
    "    \n",
    "    print(rango_solapado)\n",
    "    \n",
    "    for i in range(rango_solapado):\n",
    "        prom = (data1[i+mark11][4]-data2[i][4])\n",
    "        z = data1[i+mark11][0:4]+[prom]\n",
    "        Intervalo_solapado.append(z)\n",
    "    \n",
    "    return Intervalo_solapado\n",
    "    \n",
    "  \n",
    "\n",
    "a1 = Intervalo_de_interés(CDC,0,2000,2004)[0]\n",
    "b1 = Intervalo_de_interés(CDC,0,2000,2004)[1]\n",
    "\n",
    "\n",
    "a2 = Intervalo_de_interés(SSA,0,2000,2004)[0]\n",
    "b2 = Intervalo_de_interés(SSA,0,2000,2004)[1]\n",
    "    \n",
    "#print(b1,a1,b2,a2)\n",
    "\n",
    "print(b1-a1+1)\n",
    "print(b2-a2+1)\n",
    "\n",
    "#print(prom_overlap(CDC,SSA,4,2000,2004))\n",
    "\n",
    "\n",
    "Prom_len = len(prom_overlap(CDC,SSA,0,2000,2004))\n",
    "Dif_len = len(dif_overlap(CDC,SSA,0,2000,2004))\n",
    "B = len(CDC)\n",
    "C = len(SSA)\n",
    "print(Prom_len,Dif_len,B,C)\n",
    "\n",
    "\n",
    "\n",
    "# para no complicarla demasiado, suponemos que las listas dan los datos de la totalidad\n",
    "# de los días de todos los años involucrados (osea si no hubo nacimientos, habrá un 0)\n",
    "\n"
   ]
  },
  {
   "cell_type": "code",
   "execution_count": 28,
   "metadata": {
    "collapsed": false
   },
   "outputs": [
    {
     "name": "stdout",
     "output_type": "stream",
     "text": [
      "1461\n"
     ]
    },
    {
     "data": {
      "text/plain": [
       "[[2000, 1, 1, 6, 8589.5],\n",
       " [2000, 1, 2, 7, 7889.0],\n",
       " [2000, 1, 3, 1, 10752.5],\n",
       " [2000, 1, 4, 2, 12140.0],\n",
       " [2000, 1, 5, 3, 11805.5],\n",
       " [2000, 1, 6, 4, 11936.0],\n",
       " [2000, 1, 7, 5, 11883.5],\n",
       " [2000, 1, 8, 6, 8793.5],\n",
       " [2000, 1, 9, 7, 7929.5],\n",
       " [2000, 1, 10, 1, 11083.0],\n",
       " [2000, 1, 11, 2, 12158.5],\n",
       " [2000, 1, 12, 3, 11982.5],\n",
       " [2000, 1, 13, 4, 11513.5],\n",
       " [2000, 1, 14, 5, 11875.0],\n",
       " [2000, 1, 15, 6, 8592.5],\n",
       " [2000, 1, 16, 7, 7890.0],\n",
       " [2000, 1, 17, 1, 10695.5],\n",
       " [2000, 1, 18, 2, 11945.5],\n",
       " [2000, 1, 19, 3, 11831.0],\n",
       " [2000, 1, 20, 4, 12094.0]]"
      ]
     },
     "execution_count": 28,
     "metadata": {},
     "output_type": "execute_result"
    }
   ],
   "source": [
    "## Vamos a mostrar el solapado promediado\n",
    "w = prom_overlap(CDC,SSA,0,2000,2004)\n",
    "T = w[2191:]\n",
    "T[:20]"
   ]
  },
  {
   "cell_type": "code",
   "execution_count": 35,
   "metadata": {
    "collapsed": false
   },
   "outputs": [
    {
     "name": "stdout",
     "output_type": "stream",
     "text": [
      "1461\n",
      "1461\n"
     ]
    }
   ],
   "source": [
    "# Vamos a mostrar el solapado diferencia\n",
    "q = dif_overlap(CDC,SSA,0,2000,2004)\n",
    "print(len(q))"
   ]
  },
  {
   "cell_type": "code",
   "execution_count": 36,
   "metadata": {
    "collapsed": false,
    "scrolled": true
   },
   "outputs": [
    {
     "data": {
      "text/plain": [
       "[[2000, 1, 1, 6, 8843],\n",
       " [2000, 1, 2, 7, 7816],\n",
       " [2000, 1, 3, 1, 11123],\n",
       " [2000, 1, 4, 2, 12703],\n",
       " [2000, 1, 5, 3, 12240],\n",
       " [2000, 1, 6, 4, 12260],\n",
       " [2000, 1, 7, 5, 12280],\n",
       " [2000, 1, 8, 6, 8750],\n",
       " [2000, 1, 9, 7, 7736]]"
      ]
     },
     "execution_count": 36,
     "metadata": {},
     "output_type": "execute_result"
    }
   ],
   "source": [
    "CDC[2191:2200]"
   ]
  },
  {
   "cell_type": "code",
   "execution_count": 37,
   "metadata": {
    "collapsed": false
   },
   "outputs": [
    {
     "data": {
      "text/plain": [
       "[[2000, 1, 1, 6, 9083],\n",
       " [2000, 1, 2, 7, 8006],\n",
       " [2000, 1, 3, 1, 11363],\n",
       " [2000, 1, 4, 2, 13032],\n",
       " [2000, 1, 5, 3, 12558],\n",
       " [2000, 1, 6, 4, 12466],\n",
       " [2000, 1, 7, 5, 12516],\n",
       " [2000, 1, 8, 6, 8934],\n",
       " [2000, 1, 9, 7, 7949],\n",
       " [2000, 1, 10, 1, 11668],\n",
       " [2000, 1, 11, 2, 12611],\n",
       " [2000, 1, 12, 3, 12398],\n",
       " [2000, 1, 13, 4, 11815],\n",
       " [2000, 1, 14, 5, 12180],\n",
       " [2000, 1, 15, 6, 8525],\n",
       " [2000, 1, 16, 7, 7657],\n",
       " [2000, 1, 17, 1, 10824],\n",
       " [2000, 1, 18, 2, 12350],\n",
       " [2000, 1, 19, 3, 12405],\n",
       " [2000, 1, 20, 4, 12506]]"
      ]
     },
     "execution_count": 37,
     "metadata": {},
     "output_type": "execute_result"
    }
   ],
   "source": [
    "SSA[:20]"
   ]
  },
  {
   "cell_type": "code",
   "execution_count": 38,
   "metadata": {
    "collapsed": false
   },
   "outputs": [
    {
     "name": "stdout",
     "output_type": "stream",
     "text": [
      "True\n",
      "-326511\n",
      "-240\n"
     ]
    }
   ],
   "source": [
    "#q devuelve la lista de las diferencias solo en el rango del solapamiento \n",
    "son_todas_negativas = True\n",
    "sum = 0\n",
    "for row in q:\n",
    "    sum += row[4]\n",
    "    if row[4]>0:\n",
    "        son_todas_negativas = False\n",
    "\n",
    "print(son_todas_negativas)\n",
    "print(sum)\n",
    "print(q[0][4])"
   ]
  },
  {
   "cell_type": "code",
   "execution_count": null,
   "metadata": {
    "collapsed": true
   },
   "outputs": [],
   "source": []
  }
 ],
 "metadata": {
  "anaconda-cloud": {},
  "kernelspec": {
   "display_name": "Python 3",
   "language": "python",
   "name": "python3"
  },
  "language_info": {
   "codemirror_mode": {
    "name": "ipython",
    "version": 3
   },
   "file_extension": ".py",
   "mimetype": "text/x-python",
   "name": "python",
   "nbconvert_exporter": "python",
   "pygments_lexer": "ipython3",
   "version": "3.6.0"
  }
 },
 "nbformat": 4,
 "nbformat_minor": 1
}
